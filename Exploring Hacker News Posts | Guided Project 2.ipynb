{
 "cells": [
  {
   "cell_type": "markdown",
   "metadata": {},
   "source": [
    "# Exploring Hacker News Posts\n",
    "Hacker News is a popular website in the technology industry. Users submit posts and comment on those posts. \n",
    "\n",
    "Today I will explore a dataset of <a href=\"https://www.kaggle.com/hacker-news/hacker-news-posts\">Hacker News posts </a> from Kaggle.com. I will use data analysis to answer two questions:\n",
    "<ul><li>Do \"Ask HN\" posts or \"Show HN\" posts receive more comments on average?</li><li>Is there a time of day during which \"Ask HN\" posts receive more comments on average?</li></ul>\n",
    "\n",
    "#### Assumptions:\n",
    "I will assume that posts that received zero comments are not worth analyzing. This will reduce the size of the dataset to a reasonable size and leave me with content that is clearly more interesting to the technology industry."
   ]
  },
  {
   "cell_type": "code",
   "execution_count": 1,
   "metadata": {},
   "outputs": [
    {
     "data": {
      "text/plain": [
       "[['id', 'title', 'url', 'num_points', 'num_comments', 'author', 'created_at'],\n",
       " ['12579008',\n",
       "  'You have two days to comment if you want stem cells to be classified as your own',\n",
       "  'http://www.regulations.gov/document?D=FDA-2015-D-3719-0018',\n",
       "  '1',\n",
       "  '0',\n",
       "  'altstar',\n",
       "  '9/26/2016 3:26'],\n",
       " ['12579005',\n",
       "  'SQLAR  the SQLite Archiver',\n",
       "  'https://www.sqlite.org/sqlar/doc/trunk/README.md',\n",
       "  '1',\n",
       "  '0',\n",
       "  'blacksqr',\n",
       "  '9/26/2016 3:24'],\n",
       " ['12578997',\n",
       "  'What if we just printed a flatscreen television on the side of our boxes?',\n",
       "  'https://medium.com/vanmoof/our-secrets-out-f21c1f03fdc8#.ietxmez43',\n",
       "  '1',\n",
       "  '0',\n",
       "  'pavel_lishin',\n",
       "  '9/26/2016 3:19'],\n",
       " ['12578989',\n",
       "  'algorithmic music',\n",
       "  'http://cacm.acm.org/magazines/2011/7/109891-algorithmic-composition/fulltext',\n",
       "  '1',\n",
       "  '0',\n",
       "  'poindontcare',\n",
       "  '9/26/2016 3:16']]"
      ]
     },
     "execution_count": 1,
     "metadata": {},
     "output_type": "execute_result"
    }
   ],
   "source": [
    "from csv import reader\n",
    "\n",
    "open_file = open('HN_posts_year_to_Sep_26_2016.csv')\n",
    "read_file = reader(open_file)\n",
    "hn = list(read_file)\n",
    "\n",
    "hn[:5]"
   ]
  },
  {
   "cell_type": "code",
   "execution_count": 2,
   "metadata": {},
   "outputs": [
    {
     "data": {
      "text/plain": [
       "293120"
      ]
     },
     "execution_count": 2,
     "metadata": {},
     "output_type": "execute_result"
    }
   ],
   "source": [
    "len(hn)"
   ]
  },
  {
   "cell_type": "code",
   "execution_count": 4,
   "metadata": {},
   "outputs": [
    {
     "data": {
      "text/plain": [
       "80401"
      ]
     },
     "execution_count": 4,
     "metadata": {},
     "output_type": "execute_result"
    }
   ],
   "source": [
    "hn_no_comment = []\n",
    "\n",
    "for row in hn[1:]:\n",
    "    if float(row[4]) != 0:\n",
    "        hn_no_comment.append(row)\n",
    "        \n",
    "len(hn_no_comment)"
   ]
  },
  {
   "cell_type": "code",
   "execution_count": 5,
   "metadata": {},
   "outputs": [
    {
     "data": {
      "text/plain": [
       "[['12578975',\n",
       "  'Saving the Hassle of Shopping',\n",
       "  'https://blog.menswr.com/2016/09/07/whats-new-with-your-style-feed/',\n",
       "  '1',\n",
       "  '1',\n",
       "  'bdoux',\n",
       "  '9/26/2016 3:13'],\n",
       " ['12578908',\n",
       "  'Ask HN: What TLD do you use for local development?',\n",
       "  '',\n",
       "  '4',\n",
       "  '7',\n",
       "  'Sevrene',\n",
       "  '9/26/2016 2:53'],\n",
       " ['12578822',\n",
       "  'Amazons Algorithms Dont Find You the Best Deals',\n",
       "  'https://www.technologyreview.com/s/602442/amazons-algorithms-dont-find-you-the-best-deals/',\n",
       "  '1',\n",
       "  '1',\n",
       "  'yarapavan',\n",
       "  '9/26/2016 2:26'],\n",
       " ['12578694',\n",
       "  'Emergency dose of epinephrine that does not cost an arm and a leg',\n",
       "  'http://m.imgur.com/gallery/th6Ua',\n",
       "  '2',\n",
       "  '1',\n",
       "  'dredmorbius',\n",
       "  '9/26/2016 1:54'],\n",
       " ['12578624',\n",
       "  'Phone Makers Could Cut Off Drivers. So Why Dont They?',\n",
       "  'http://www.nytimes.com/2016/09/25/technology/phone-makers-could-cut-off-drivers-so-why-dont-they.html',\n",
       "  '4',\n",
       "  '1',\n",
       "  'danso',\n",
       "  '9/26/2016 1:37']]"
      ]
     },
     "execution_count": 5,
     "metadata": {},
     "output_type": "execute_result"
    }
   ],
   "source": [
    "hn_no_comment[:5]"
   ]
  },
  {
   "cell_type": "code",
   "execution_count": 6,
   "metadata": {},
   "outputs": [
    {
     "name": "stdout",
     "output_type": "stream",
     "text": [
      "['id', 'title', 'url', 'num_points', 'num_comments', 'author', 'created_at']\n"
     ]
    }
   ],
   "source": [
    "headers = hn[0]\n",
    "print(headers)"
   ]
  },
  {
   "cell_type": "code",
   "execution_count": 30,
   "metadata": {
    "scrolled": true
   },
   "outputs": [
    {
     "name": "stdout",
     "output_type": "stream",
     "text": [
      "Number of Ask HN Posts:   6913\n",
      "Number of Show HN Posts:  5059\n",
      "Number of Other Posts:    68429\n",
      "\n",
      "\n",
      "True\n"
     ]
    }
   ],
   "source": [
    "ask_posts = []\n",
    "show_posts = []\n",
    "other_posts = []\n",
    "\n",
    "for row in hn_no_comment:\n",
    "    title = row[1]\n",
    "    title = title.lower()\n",
    "    if 'ask hn' in title[:10]:\n",
    "        ask_posts.append(row)\n",
    "    elif 'show hn' in title[:10]:\n",
    "        show_posts.append(row)\n",
    "    else:\n",
    "        other_posts.append(row)\n",
    "\n",
    "length_ask = len(ask_posts)\n",
    "length_show = len(show_posts)\n",
    "length_other = len(other_posts)\n",
    "print('Number of Ask HN Posts:  ', length_ask)\n",
    "print('Number of Show HN Posts: ', length_show)\n",
    "print('Number of Other Posts:   ', length_other)\n",
    "print('\\n')\n",
    "if (length_ask + length_show + length_other) == len(hn_no_comment):\n",
    "    print(True)"
   ]
  },
  {
   "cell_type": "code",
   "execution_count": 33,
   "metadata": {},
   "outputs": [
    {
     "name": "stdout",
     "output_type": "stream",
     "text": [
      "Average Number of Comments per Ask HN Post:   13.74\n",
      "Average Number of Comments per Show HN Post:  9.81\n"
     ]
    }
   ],
   "source": [
    "total_ask_comments = 0\n",
    "total_show_comments = 0\n",
    "\n",
    "for row in ask_posts:\n",
    "    comments = row[4]\n",
    "    total_ask_comments += int(comments)\n",
    "    \n",
    "for row in show_posts:\n",
    "    comments = row[4]\n",
    "    total_show_comments += int(comments)\n",
    "    \n",
    "avg_ask_comments = round(total_ask_comments/length_ask, 2)\n",
    "avg_show_comments = round(total_show_comments/length_show, 2)\n",
    "\n",
    "print('Average Number of Comments per Ask HN Post:  ', avg_ask_comments)\n",
    "print('Average Number of Comments per Show HN Post: ', avg_show_comments)"
   ]
  },
  {
   "cell_type": "code",
   "execution_count": 81,
   "metadata": {},
   "outputs": [],
   "source": [
    "import datetime as dt\n",
    "\n",
    "result_list = []\n",
    "\n",
    "for row in ask_posts:\n",
    "    date = row[-1]\n",
    "    comments = int(row[4])\n",
    "    result_list.append([date,comments])\n",
    "    \n",
    "counts_by_hour = {}\n",
    "comments_by_hour = {}\n",
    "\n",
    "for row in result_list:\n",
    "    dt_object = dt.datetime.strptime(row[0], '%m/%d/%Y %H:%M')\n",
    "    hour = dt.datetime.strftime(dt_object, '%H')\n",
    "    if hour not in counts_by_hour:\n",
    "        counts_by_hour[hour] = 1\n",
    "        comments_by_hour[hour] = row[1]\n",
    "    else:\n",
    "        counts_by_hour[hour] += 1\n",
    "        comments_by_hour[hour] += row[1]"
   ]
  },
  {
   "cell_type": "code",
   "execution_count": 82,
   "metadata": {},
   "outputs": [
    {
     "name": "stdout",
     "output_type": "stream",
     "text": [
      "Top 5 Hours for Ask Posts Comments\n",
      "15:00: 39.59 average comments per post.\n",
      "13:00: 22.22 average comments per post.\n",
      "12:00: 15.45 average comments per post.\n",
      "10:00: 13.76 average comments per post.\n",
      "17:00: 13.73 average comments per post.\n"
     ]
    }
   ],
   "source": [
    "avg_by_hour = []\n",
    "\n",
    "for hour in counts_by_hour:\n",
    "    avg_by_hour.append([round(comments_by_hour[hour]/counts_by_hour[hour], 2), hour])\n",
    "    \n",
    "sorted_avg = sorted(avg_by_hour, reverse=True)\n",
    "\n",
    "print('Top 5 Hours for Ask Posts Comments')\n",
    "for i in range(5):\n",
    "    print('{1}:00: {0} average comments per post.'.format(sorted_avg[i][0], sorted_avg[i][1]))"
   ]
  },
  {
   "cell_type": "markdown",
   "metadata": {},
   "source": [
    "## Conclusion\n",
    "\"Ask HN\" posts clearly have more comments per post than \"Show HN\" posts.\n",
    "\n",
    "The best time to post an \"Ask HN\" post to have the highest chance of receiving the most comments are during the hours of:\n",
    "<ol><li> 3:00 pm</li><li> 1:00 pm</li><li>12:00 pm</li><li>10:00 am</li><li> 5:00 pm</li></ol>\n",
    "\n",
    "All times given are in Eastern Standard Time (EST)."
   ]
  },
  {
   "cell_type": "code",
   "execution_count": null,
   "metadata": {},
   "outputs": [],
   "source": []
  }
 ],
 "metadata": {
  "kernelspec": {
   "display_name": "Python 3",
   "language": "python",
   "name": "python3"
  },
  "language_info": {
   "codemirror_mode": {
    "name": "ipython",
    "version": 3
   },
   "file_extension": ".py",
   "mimetype": "text/x-python",
   "name": "python",
   "nbconvert_exporter": "python",
   "pygments_lexer": "ipython3",
   "version": "3.7.4"
  }
 },
 "nbformat": 4,
 "nbformat_minor": 2
}
